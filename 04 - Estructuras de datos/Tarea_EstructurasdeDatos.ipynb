{
 "cells": [
  {
   "cell_type": "markdown",
   "metadata": {},
   "source": [
    "1) Crear una lista que contenga nombres de ciudades del mundo que contenga más de 5 elementos e imprimir por pantalla"
   ]
  },
  {
   "cell_type": "code",
   "execution_count": 14,
   "metadata": {},
   "outputs": [
    {
     "name": "stdout",
     "output_type": "stream",
     "text": [
      "['Cordoba', 'California', 'Berlin', 'Moscow']\n"
     ]
    }
   ],
   "source": [
    "lista_ciudades = [\"Cordoba\", \"California\", \"Berlin\", \"Moscow\"]\n",
    "print(lista_ciudades)"
   ]
  },
  {
   "cell_type": "markdown",
   "metadata": {},
   "source": [
    "2) Imprimir por pantalla el segundo elemento de la lista"
   ]
  },
  {
   "cell_type": "code",
   "execution_count": 4,
   "metadata": {},
   "outputs": [
    {
     "name": "stdout",
     "output_type": "stream",
     "text": [
      "California\n"
     ]
    }
   ],
   "source": [
    "print(lista_ciudades[1])"
   ]
  },
  {
   "cell_type": "markdown",
   "metadata": {},
   "source": [
    "3) Imprimir por pantalla del segundo al cuarto elemento"
   ]
  },
  {
   "cell_type": "code",
   "execution_count": 7,
   "metadata": {},
   "outputs": [
    {
     "name": "stdout",
     "output_type": "stream",
     "text": [
      "['California', 'Berlin', 'Moscow']\n"
     ]
    }
   ],
   "source": [
    "print(lista_ciudades[1:4])"
   ]
  },
  {
   "cell_type": "markdown",
   "metadata": {},
   "source": [
    "4) Visualizar el tipo de dato de la lista"
   ]
  },
  {
   "cell_type": "code",
   "execution_count": 8,
   "metadata": {},
   "outputs": [
    {
     "name": "stdout",
     "output_type": "stream",
     "text": [
      "<class 'list'>\n"
     ]
    }
   ],
   "source": [
    "print(type(lista_ciudades))"
   ]
  },
  {
   "cell_type": "markdown",
   "metadata": {},
   "source": [
    "5) Visualizar todos los elementos de la lista a partir del tercero de manera genérica, es decir, sin explicitar la posición del último elemento"
   ]
  },
  {
   "cell_type": "code",
   "execution_count": 9,
   "metadata": {},
   "outputs": [
    {
     "name": "stdout",
     "output_type": "stream",
     "text": [
      "['Moscow']\n"
     ]
    }
   ],
   "source": [
    "print(lista_ciudades[3:])"
   ]
  },
  {
   "cell_type": "markdown",
   "metadata": {},
   "source": [
    "6) Visualizar los primeros 4 elementos de la lista"
   ]
  },
  {
   "cell_type": "code",
   "execution_count": 10,
   "metadata": {},
   "outputs": [
    {
     "name": "stdout",
     "output_type": "stream",
     "text": [
      "['Cordoba', 'California', 'Berlin', 'Moscow']\n"
     ]
    }
   ],
   "source": [
    "print(lista_ciudades[:4])"
   ]
  },
  {
   "cell_type": "markdown",
   "metadata": {},
   "source": [
    "7) Agregar una ciudad más a la lista que ya exista y otra que no ¿Arroja algún tipo de error?\n",
    "rta: TypeError: list.append() takes exactly one argument (2 given"
   ]
  },
  {
   "cell_type": "code",
   "execution_count": 11,
   "metadata": {},
   "outputs": [
    {
     "ename": "TypeError",
     "evalue": "list.append() takes exactly one argument (2 given)",
     "output_type": "error",
     "traceback": [
      "\u001b[1;31m---------------------------------------------------------------------------\u001b[0m",
      "\u001b[1;31mTypeError\u001b[0m                                 Traceback (most recent call last)",
      "\u001b[1;32md:\\henry prep\\Python-Prep-1\\04 - Estructuras de datos\\Tarea_EstructurasdeDatos.ipynb Cell 14\u001b[0m line \u001b[0;36m1\n\u001b[1;32m----> <a href='vscode-notebook-cell:/d%3A/henry%20prep/Python-Prep-1/04%20-%20Estructuras%20de%20datos/Tarea_EstructurasdeDatos.ipynb#X44sZmlsZQ%3D%3D?line=0'>1</a>\u001b[0m lista_paises\u001b[39m.\u001b[39;49mappend(\u001b[39m\"\u001b[39;49m\u001b[39mCordoba\u001b[39;49m\u001b[39m\"\u001b[39;49m,\u001b[39m\"\u001b[39;49m\u001b[39mRio de Janeiro\u001b[39;49m\u001b[39m\"\u001b[39;49m)\n",
      "\u001b[1;31mTypeError\u001b[0m: list.append() takes exactly one argument (2 given)"
     ]
    }
   ],
   "source": [
    "lista_ciudades.append(\"Cordoba\",\"Rio de Janeiro\")"
   ]
  },
  {
   "cell_type": "markdown",
   "metadata": {},
   "source": [
    "8) Agregar otra ciudad, pero en la cuarta posición"
   ]
  },
  {
   "cell_type": "code",
   "execution_count": 12,
   "metadata": {},
   "outputs": [],
   "source": [
    "lista_ciudades.insert(4,\"Santiago de Chile\")"
   ]
  },
  {
   "cell_type": "markdown",
   "metadata": {},
   "source": [
    "9) Concatenar otra lista a la ya creada"
   ]
  },
  {
   "cell_type": "code",
   "execution_count": 20,
   "metadata": {},
   "outputs": [
    {
     "name": "stdout",
     "output_type": "stream",
     "text": [
      "[['Cordoba', 'California', 'Berlin', 'Moscow'], ['Argentina', 'Estados Unidos', 'Alemania', 'Rusia']]\n"
     ]
    }
   ],
   "source": [
    "lista_paises = [\"Argentina\", \"Estados Unidos\", \"Alemania\", \"Rusia\"]\n",
    "lista_delistas =[lista_ciudades, lista_paises,]\n",
    "print(lista_delistas)"
   ]
  },
  {
   "cell_type": "markdown",
   "metadata": {},
   "source": [
    "10) Encontrar el índice de la ciudad que en el punto 7 agregamos duplicada. ¿Se nota alguna particularidad?"
   ]
  },
  {
   "cell_type": "code",
   "execution_count": 24,
   "metadata": {},
   "outputs": [
    {
     "data": {
      "text/plain": [
       "0"
      ]
     },
     "execution_count": 24,
     "metadata": {},
     "output_type": "execute_result"
    }
   ],
   "source": [
    "lista_ciudades.index(\"Cordoba\")"
   ]
  },
  {
   "cell_type": "markdown",
   "metadata": {},
   "source": [
    "11) ¿Qué pasa si se busca un elemento que no existe? rta: ValueError: 'Santa Fe' is not in list"
   ]
  },
  {
   "cell_type": "code",
   "execution_count": 25,
   "metadata": {},
   "outputs": [
    {
     "ename": "ValueError",
     "evalue": "'Santa Fe' is not in list",
     "output_type": "error",
     "traceback": [
      "\u001b[1;31m---------------------------------------------------------------------------\u001b[0m",
      "\u001b[1;31mValueError\u001b[0m                                Traceback (most recent call last)",
      "\u001b[1;32md:\\henry prep\\Python-Prep-1\\04 - Estructuras de datos\\Tarea_EstructurasdeDatos.ipynb Cell 22\u001b[0m line \u001b[0;36m1\n\u001b[1;32m----> <a href='vscode-notebook-cell:/d%3A/henry%20prep/Python-Prep-1/04%20-%20Estructuras%20de%20datos/Tarea_EstructurasdeDatos.ipynb#X51sZmlsZQ%3D%3D?line=0'>1</a>\u001b[0m lista_ciudades\u001b[39m.\u001b[39;49mindex(\u001b[39m\"\u001b[39;49m\u001b[39mSanta Fe\u001b[39;49m\u001b[39m\"\u001b[39;49m)\n",
      "\u001b[1;31mValueError\u001b[0m: 'Santa Fe' is not in list"
     ]
    }
   ],
   "source": [
    "lista_ciudades.index(\"Santa Fe\")"
   ]
  },
  {
   "cell_type": "markdown",
   "metadata": {},
   "source": [
    "12) Eliminar un elemento de la lista"
   ]
  },
  {
   "cell_type": "code",
   "execution_count": 26,
   "metadata": {},
   "outputs": [
    {
     "name": "stdout",
     "output_type": "stream",
     "text": [
      "['Argentina', 'Estados Unidos', 'Alemania', 'Rusia']\n",
      "['Argentina', 'Estados Unidos', 'Alemania']\n"
     ]
    }
   ],
   "source": [
    "print(lista_paises)\n",
    "lista_paises.remove(\"Rusia\")\n",
    "print(lista_paises)"
   ]
  },
  {
   "cell_type": "markdown",
   "metadata": {},
   "source": [
    "13) ¿Qué pasa si el elemento a eliminar no existe? rta: ValueError: list.remove(x): x not in list"
   ]
  },
  {
   "cell_type": "code",
   "execution_count": 27,
   "metadata": {},
   "outputs": [
    {
     "name": "stdout",
     "output_type": "stream",
     "text": [
      "['Argentina', 'Estados Unidos', 'Alemania']\n"
     ]
    },
    {
     "ename": "ValueError",
     "evalue": "list.remove(x): x not in list",
     "output_type": "error",
     "traceback": [
      "\u001b[1;31m---------------------------------------------------------------------------\u001b[0m",
      "\u001b[1;31mValueError\u001b[0m                                Traceback (most recent call last)",
      "\u001b[1;32md:\\henry prep\\Python-Prep-1\\04 - Estructuras de datos\\Tarea_EstructurasdeDatos.ipynb Cell 26\u001b[0m line \u001b[0;36m2\n\u001b[0;32m      <a href='vscode-notebook-cell:/d%3A/henry%20prep/Python-Prep-1/04%20-%20Estructuras%20de%20datos/Tarea_EstructurasdeDatos.ipynb#X54sZmlsZQ%3D%3D?line=0'>1</a>\u001b[0m \u001b[39mprint\u001b[39m(lista_paises)\n\u001b[1;32m----> <a href='vscode-notebook-cell:/d%3A/henry%20prep/Python-Prep-1/04%20-%20Estructuras%20de%20datos/Tarea_EstructurasdeDatos.ipynb#X54sZmlsZQ%3D%3D?line=1'>2</a>\u001b[0m lista_paises\u001b[39m.\u001b[39;49mremove(\u001b[39m\"\u001b[39;49m\u001b[39mMexico\u001b[39;49m\u001b[39m\"\u001b[39;49m)\n\u001b[0;32m      <a href='vscode-notebook-cell:/d%3A/henry%20prep/Python-Prep-1/04%20-%20Estructuras%20de%20datos/Tarea_EstructurasdeDatos.ipynb#X54sZmlsZQ%3D%3D?line=2'>3</a>\u001b[0m \u001b[39mprint\u001b[39m(lista_paises)\n",
      "\u001b[1;31mValueError\u001b[0m: list.remove(x): x not in list"
     ]
    }
   ],
   "source": [
    "print(lista_paises)\n",
    "lista_paises.remove(\"Mexico\")\n",
    "print(lista_paises)"
   ]
  },
  {
   "cell_type": "markdown",
   "metadata": {},
   "source": [
    "14) Extraer el úlimo elemento de la lista, guardarlo en una variable e imprimirlo"
   ]
  },
  {
   "cell_type": "code",
   "execution_count": 28,
   "metadata": {},
   "outputs": [
    {
     "name": "stdout",
     "output_type": "stream",
     "text": [
      "['Argentina', 'Estados Unidos', 'Alemania']\n",
      "['Argentina', 'Estados Unidos']\n",
      "Alemania\n"
     ]
    }
   ],
   "source": [
    "print(lista_paises)\n",
    "unico_pais = lista_paises.pop()\n",
    "print(lista_paises)\n",
    "print(unico_pais)\n"
   ]
  },
  {
   "cell_type": "markdown",
   "metadata": {},
   "source": [
    "15) Mostrar la lista multiplicada por 4"
   ]
  },
  {
   "cell_type": "code",
   "execution_count": 62,
   "metadata": {},
   "outputs": [
    {
     "name": "stdout",
     "output_type": "stream",
     "text": [
      "['Argentina', 'Estados Unidos', 'Argentina', 'Estados Unidos', 'Argentina', 'Estados Unidos', 'Argentina', 'Estados Unidos', 'Argentina', 'Estados Unidos', 'Argentina', 'Estados Unidos', 'Argentina', 'Estados Unidos', 'Argentina', 'Estados Unidos', 'Argentina', 'Estados Unidos', 'Argentina', 'Estados Unidos', 'Argentina', 'Estados Unidos', 'Argentina', 'Estados Unidos', 'Argentina', 'Estados Unidos', 'Argentina', 'Estados Unidos', 'Argentina', 'Estados Unidos', 'Argentina', 'Estados Unidos']\n"
     ]
    }
   ],
   "source": [
    "lista_paises = lista_paises * 4\n",
    "print(lista_paises)"
   ]
  },
  {
   "cell_type": "markdown",
   "metadata": {},
   "source": [
    "16) Crear una tupla que contenga los números enteros del 1 al 20"
   ]
  },
  {
   "cell_type": "code",
   "execution_count": 38,
   "metadata": {},
   "outputs": [
    {
     "name": "stdout",
     "output_type": "stream",
     "text": [
      "(1, 2, 3, 4, 5, 6, 7, 8, 9, 10, 11, 12, 13, 14, 15, 16, 17, 18, 19, 20)\n"
     ]
    }
   ],
   "source": [
    "ts = (tuple(range(1,21)))\n",
    "print(ts)"
   ]
  },
  {
   "cell_type": "markdown",
   "metadata": {},
   "source": [
    "17) Imprimir desde el índice 10 al 15 de la tupla"
   ]
  },
  {
   "cell_type": "code",
   "execution_count": 40,
   "metadata": {},
   "outputs": [
    {
     "name": "stdout",
     "output_type": "stream",
     "text": [
      "(11, 12, 13, 14, 15)\n"
     ]
    }
   ],
   "source": [
    "print(ts[10:15])"
   ]
  },
  {
   "cell_type": "markdown",
   "metadata": {},
   "source": [
    "18) Evaluar si los números 20 y 30 están dentro de la tupla"
   ]
  },
  {
   "cell_type": "code",
   "execution_count": 44,
   "metadata": {},
   "outputs": [
    {
     "name": "stdout",
     "output_type": "stream",
     "text": [
      "True\n",
      "False\n"
     ]
    }
   ],
   "source": [
    "print(20 in ts)\n",
    "print(30 in ts)"
   ]
  },
  {
   "cell_type": "markdown",
   "metadata": {},
   "source": [
    "19) Con la lista creada en el punto 1, validar la existencia del elemento 'París' y si no existe, agregarlo. Utilizar una variable e informar lo sucedido."
   ]
  },
  {
   "cell_type": "code",
   "execution_count": 55,
   "metadata": {},
   "outputs": [
    {
     "name": "stdout",
     "output_type": "stream",
     "text": [
      "False\n",
      "['Cordoba', 'California', 'Berlin', 'Moscow', 'Paris'] se agrego a la lista\n",
      "True\n"
     ]
    }
   ],
   "source": [
    "print(\"Paris\" in lista_ciudades)\n",
    "a = \"Paris\"\n",
    "if (a == \"Paris\"):\n",
    "    lista_ciudades.append(a)\n",
    "print(lista_ciudades,\"se agrego a la lista\")\n",
    "print(\"Paris\" in lista_ciudades)\n"
   ]
  },
  {
   "cell_type": "markdown",
   "metadata": {},
   "source": [
    "20) Mostrar la cantidad de veces que se encuentra un elemento específico dentro de la tupla y de la lista"
   ]
  },
  {
   "cell_type": "code",
   "execution_count": 56,
   "metadata": {},
   "outputs": [
    {
     "name": "stdout",
     "output_type": "stream",
     "text": [
      "1\n",
      "1\n"
     ]
    }
   ],
   "source": [
    "print(ts.count (10))\n",
    "\n",
    "print(lista_ciudades.count (\"Cordoba\"))"
   ]
  },
  {
   "cell_type": "markdown",
   "metadata": {},
   "source": [
    "21) Convertir la tupla en una lista"
   ]
  },
  {
   "cell_type": "code",
   "execution_count": 58,
   "metadata": {},
   "outputs": [
    {
     "name": "stdout",
     "output_type": "stream",
     "text": [
      "[1, 2, 3, 4, 5, 6, 7, 8, 9, 10, 11, 12, 13, 14, 15, 16, 17, 18, 19, 20]\n",
      "<class 'list'>\n"
     ]
    }
   ],
   "source": [
    "lista_en_tupla = list(ts)\n",
    "print(lista_en_tupla)\n",
    "print(type(lista_en_tupla))"
   ]
  },
  {
   "cell_type": "markdown",
   "metadata": {},
   "source": [
    "22) Desempaquetar solo los primeros 3 elementos de la tupla en 3 variables"
   ]
  },
  {
   "cell_type": "code",
   "execution_count": 60,
   "metadata": {},
   "outputs": [
    {
     "name": "stdout",
     "output_type": "stream",
     "text": [
      "Natx 10 20\n"
     ]
    }
   ],
   "source": [
    "datos_tupla = \"Natx\",10,20,\n",
    "name,year,dia = datos_tupla\n",
    "print(name, year, dia)\n",
    "del name,year,dia"
   ]
  },
  {
   "cell_type": "markdown",
   "metadata": {},
   "source": [
    "23) Crear un diccionario utilizando la lista crada en el punto 1, asignandole la clave \"ciudad\". Agregar tambien otras claves, como puede ser \"Pais\" y \"Continente\"."
   ]
  },
  {
   "cell_type": "code",
   "execution_count": 64,
   "metadata": {},
   "outputs": [
    {
     "name": "stdout",
     "output_type": "stream",
     "text": [
      "{'ciudad': [['Cordoba', 'California', 'Berlin', 'Moscow', 'Paris']], 'pais': [['Argentina', 'Estados Unidos', 'Argentina', 'Estados Unidos', 'Argentina', 'Estados Unidos', 'Argentina', 'Estados Unidos', 'Argentina', 'Estados Unidos', 'Argentina', 'Estados Unidos', 'Argentina', 'Estados Unidos', 'Argentina', 'Estados Unidos', 'Argentina', 'Estados Unidos', 'Argentina', 'Estados Unidos', 'Argentina', 'Estados Unidos', 'Argentina', 'Estados Unidos', 'Argentina', 'Estados Unidos', 'Argentina', 'Estados Unidos', 'Argentina', 'Estados Unidos', 'Argentina', 'Estados Unidos']], 'general': [[['Cordoba', 'California', 'Berlin', 'Moscow', 'Paris'], ['Argentina', 'Estados Unidos']]]}\n"
     ]
    }
   ],
   "source": [
    "mi_dicc = {\"ciudad\":[lista_ciudades], \"pais\":[lista_paises], \"general\":[lista_delistas]}\n",
    "print(mi_dicc)"
   ]
  },
  {
   "cell_type": "markdown",
   "metadata": {},
   "source": [
    "24) Imprimir las claves del diccionario"
   ]
  },
  {
   "cell_type": "code",
   "execution_count": 65,
   "metadata": {},
   "outputs": [
    {
     "name": "stdout",
     "output_type": "stream",
     "text": [
      "dict_keys(['ciudad', 'pais', 'general'])\n"
     ]
    }
   ],
   "source": [
    "print(mi_dicc.keys())"
   ]
  },
  {
   "cell_type": "markdown",
   "metadata": {},
   "source": [
    "25) Imprimir las ciudades a través de su clave"
   ]
  },
  {
   "cell_type": "code",
   "execution_count": 67,
   "metadata": {},
   "outputs": [
    {
     "name": "stdout",
     "output_type": "stream",
     "text": [
      "dict_values([[['Cordoba', 'California', 'Berlin', 'Moscow', 'Paris']], [['Argentina', 'Estados Unidos', 'Argentina', 'Estados Unidos', 'Argentina', 'Estados Unidos', 'Argentina', 'Estados Unidos', 'Argentina', 'Estados Unidos', 'Argentina', 'Estados Unidos', 'Argentina', 'Estados Unidos', 'Argentina', 'Estados Unidos', 'Argentina', 'Estados Unidos', 'Argentina', 'Estados Unidos', 'Argentina', 'Estados Unidos', 'Argentina', 'Estados Unidos', 'Argentina', 'Estados Unidos', 'Argentina', 'Estados Unidos', 'Argentina', 'Estados Unidos', 'Argentina', 'Estados Unidos']], [[['Cordoba', 'California', 'Berlin', 'Moscow', 'Paris'], ['Argentina', 'Estados Unidos']]]])\n"
     ]
    }
   ],
   "source": [
    "print(mi_dicc.values())"
   ]
  }
 ],
 "metadata": {
  "kernelspec": {
   "display_name": "Python 3",
   "language": "python",
   "name": "python3"
  },
  "language_info": {
   "codemirror_mode": {
    "name": "ipython",
    "version": 3
   },
   "file_extension": ".py",
   "mimetype": "text/x-python",
   "name": "python",
   "nbconvert_exporter": "python",
   "pygments_lexer": "ipython3",
   "version": "3.12.0"
  }
 },
 "nbformat": 4,
 "nbformat_minor": 2
}
