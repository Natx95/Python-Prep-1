{
 "cells": [
  {
   "cell_type": "markdown",
   "metadata": {},
   "source": [
    "1) Crear una variable que contenga un elemento del conjunto de números enteros y luego imprimir por pantalla si es mayor o menor a cero\n"
   ]
  },
  {
   "cell_type": "code",
   "execution_count": 1,
   "metadata": {},
   "outputs": [
    {
     "name": "stdout",
     "output_type": "stream",
     "text": [
      " la variable es igual a cero\n"
     ]
    }
   ],
   "source": [
    "a = 10\n",
    "if (a < 10):\n",
    "    print(\"la variable es menor a cero\")\n",
    "elif (a > 10):\n",
    "    print(\"la variable es mayor a cero\")\n",
    "else:\n",
    "    print(\" la variable es igual a cero\")"
   ]
  },
  {
   "cell_type": "markdown",
   "metadata": {},
   "source": [
    "2) Crear dos variables y un condicional que informe si son del mismo tipo de dato\n"
   ]
  },
  {
   "cell_type": "code",
   "execution_count": 2,
   "metadata": {},
   "outputs": [
    {
     "name": "stdout",
     "output_type": "stream",
     "text": [
      "son del mismo tipo de dato\n"
     ]
    }
   ],
   "source": [
    "varStr1 = \"hola\"\n",
    "varStr2 = \"mundo\"\n",
    "\n",
    "if type(varStr1) == type(varStr2):\n",
    "    print(\"son del mismo tipo de dato\")\n",
    "else:\n",
    "    print(\"no son del mismo tipo de dato\")"
   ]
  },
  {
   "cell_type": "markdown",
   "metadata": {},
   "source": [
    "3) Para los valores enteros del 1 al 20, imprimir por pantalla si es par o impar"
   ]
  },
  {
   "cell_type": "code",
   "execution_count": 3,
   "metadata": {},
   "outputs": [
    {
     "name": "stdout",
     "output_type": "stream",
     "text": [
      "-5 es impar\n",
      "-4 es par\n",
      "-3 es impar\n",
      "-2 es par\n",
      "-1 es impar\n",
      "0 es par\n",
      "1 es impar\n",
      "2 es par\n",
      "3 es impar\n",
      "4 es par\n",
      "5 es impar\n",
      "6 es par\n",
      "7 es impar\n",
      "8 es par\n",
      "9 es impar\n",
      "10 es par\n",
      "11 es impar\n",
      "12 es par\n",
      "13 es impar\n",
      "14 es par\n",
      "15 es impar\n",
      "16 es par\n",
      "17 es impar\n",
      "18 es par\n",
      "19 es impar\n",
      "20 es par\n"
     ]
    }
   ],
   "source": [
    "for i in range(-5,21,):\n",
    "    if i % 2 == 0:\n",
    "        print(i, \"es par\")\n",
    "    else:\n",
    "        print(i, \"es impar\")"
   ]
  },
  {
   "cell_type": "markdown",
   "metadata": {},
   "source": [
    "4)En un ciclo for mostrar para los valores entre 0 y 5 el resultado de elevarlo a la potencia igual a 3"
   ]
  },
  {
   "cell_type": "code",
   "execution_count": 4,
   "metadata": {},
   "outputs": [
    {
     "name": "stdout",
     "output_type": "stream",
     "text": [
      "0\n",
      "1\n",
      "8\n",
      "27\n",
      "64\n",
      "125\n"
     ]
    }
   ],
   "source": [
    "for j in range(0,6):\n",
    "    print(j**3)"
   ]
  },
  {
   "cell_type": "markdown",
   "metadata": {},
   "source": [
    "5)Crear una variable que contenga un número entero y realizar un ciclo for la misma cantidad de ciclos"
   ]
  },
  {
   "cell_type": "code",
   "execution_count": 6,
   "metadata": {},
   "outputs": [
    {
     "name": "stdout",
     "output_type": "stream",
     "text": [
      "1\n",
      "2\n"
     ]
    }
   ],
   "source": [
    "varFor = 2\n",
    "for k in range(1,varFor+1):\n",
    "    print((k))"
   ]
  },
  {
   "cell_type": "markdown",
   "metadata": {},
   "source": [
    "6) Utilizar un ciclo while para realizar el factoreo de un número guardado en una variable, sólo si la variable contiene un número entero mayor a 0"
   ]
  },
  {
   "cell_type": "code",
   "execution_count": 13,
   "metadata": {},
   "outputs": [
    {
     "name": "stdout",
     "output_type": "stream",
     "text": [
      "5040 es factorial\n"
     ]
    }
   ],
   "source": [
    "n = 7\n",
    "if (type(n) == int):\n",
    "    if (n > 0):\n",
    "        facN= n\n",
    "        while (n > 2):\n",
    "            n = n - 1\n",
    "            facN = facN * n\n",
    "        print(facN,\"es factorial\")\n",
    "    else:\n",
    "        print(n,\"no es factorial\")\n",
    "else:\n",
    "    print(n,\"no es entero\")\n",
    "    "
   ]
  },
  {
   "cell_type": "markdown",
   "metadata": {},
   "source": [
    "7) Crear un ciclo for dentro de un ciclo while"
   ]
  },
  {
   "cell_type": "code",
   "execution_count": 24,
   "metadata": {},
   "outputs": [
    {
     "name": "stdout",
     "output_type": "stream",
     "text": [
      "1 bucle for \n",
      "2 bucle while\n"
     ]
    }
   ],
   "source": [
    "n=0\n",
    "i=5\n",
    "while (n < i):\n",
    "    n = n+1\n",
    "    for i in range(1,n):\n",
    "        print(i,\"bucle for \")\n",
    "        print(n,\"bucle while\")"
   ]
  },
  {
   "cell_type": "markdown",
   "metadata": {},
   "source": [
    "8) Crear un ciclo while dentro de un ciclo for"
   ]
  },
  {
   "cell_type": "code",
   "execution_count": 2,
   "metadata": {},
   "outputs": [
    {
     "name": "stdout",
     "output_type": "stream",
     "text": [
      "1\n",
      "2\n",
      "3\n"
     ]
    }
   ],
   "source": [
    "q = 2\n",
    "for i in range(1,q):\n",
    "    cc = 0\n",
    "    while (cc <=q):\n",
    "        cc = cc + 1\n",
    "        print(cc)"
   ]
  },
  {
   "cell_type": "markdown",
   "metadata": {},
   "source": [
    "9) Imprimir los números primos existentes entre 0 y 30"
   ]
  },
  {
   "cell_type": "code",
   "execution_count": 3,
   "metadata": {},
   "outputs": [
    {
     "name": "stdout",
     "output_type": "stream",
     "text": [
      "0 es primos\n",
      "1 es primos\n",
      "2 es primos\n",
      "3 es primos\n",
      "5 es primos\n",
      "7 es primos\n",
      "11 es primos\n",
      "13 es primos\n",
      "17 es primos\n",
      "19 es primos\n",
      "23 es primos\n",
      "29 es primos\n"
     ]
    }
   ],
   "source": [
    "for i in range(0,30):\n",
    "    np = True\n",
    "    for j in range(2,i):\n",
    "        if(i % j == 0):\n",
    "            np = False\n",
    "    if(np):\n",
    "        print(i, \"es primos\")\n",
    "        "
   ]
  },
  {
   "cell_type": "markdown",
   "metadata": {},
   "source": [
    "10) ¿Se puede mejorar el proceso del punto 9? Utilizar las sentencias break y/ó continue para tal fin"
   ]
  },
  {
   "cell_type": "code",
   "execution_count": 7,
   "metadata": {},
   "outputs": [
    {
     "name": "stdout",
     "output_type": "stream",
     "text": [
      "0 es primos\n",
      "1 es primos\n",
      "2 es primos\n",
      "3 es primos\n",
      "5 es primos\n",
      "7 es primos\n",
      "11 es primos\n",
      "13 es primos\n",
      "17 es primos\n",
      "19 es primos\n",
      "23 es primos\n",
      "29 es primos\n"
     ]
    }
   ],
   "source": [
    "for i in range(0,30):\n",
    "    np = True\n",
    "    for j in range(2,i):\n",
    "        if(i % j == 0):\n",
    "            np = False\n",
    "            break\n",
    "    if(np):\n",
    "        print(i, \"es primos\")"
   ]
  },
  {
   "cell_type": "markdown",
   "metadata": {},
   "source": [
    "11) En los puntos 9 y 10, se diseño un código que encuentra números primos y además se lo optimizó. ¿Es posible saber en qué medida se optimizó?"
   ]
  },
  {
   "cell_type": "code",
   "execution_count": 15,
   "metadata": {},
   "outputs": [
    {
     "name": "stdout",
     "output_type": "stream",
     "text": [
      "la optimizacion del codigo utilizando break es:  0.3544973544973545 \n",
      "\n"
     ]
    }
   ],
   "source": [
    "cant_ciclos_conb = 0\n",
    "cant_ciclos_sinb = 0\n",
    "for i in range(0,30):\n",
    "    np = True\n",
    "    for j in range(2,i):\n",
    "        cant_ciclos_conb += 1\n",
    "        if(i % j == 0):\n",
    "            np = False\n",
    "            break\n",
    "    if(np):\n",
    "        pass\n",
    "for i in range(0,30):\n",
    "    np = True\n",
    "    for j in range(2,i):\n",
    "        cant_ciclos_sinb += 1\n",
    "        if(i % j == 0):\n",
    "            np = False\n",
    "            #break\n",
    "    if(np):\n",
    "        pass\n",
    "print(\"la optimizacion del codigo utilizando break es: \",cant_ciclos_conb/cant_ciclos_sinb, \"\\n\")"
   ]
  },
  {
   "cell_type": "markdown",
   "metadata": {},
   "source": [
    "12) Si la cantidad de números que se evalúa es mayor a treinta, esa optimización crece?"
   ]
  },
  {
   "cell_type": "markdown",
   "metadata": {},
   "source": [
    "a medida que se escala en la cantidad de numeros que deseo ver si son primos o no, la optimizacion crece."
   ]
  },
  {
   "cell_type": "code",
   "execution_count": 1,
   "metadata": {},
   "outputs": [
    {
     "name": "stdout",
     "output_type": "stream",
     "text": [
      "la optimizacion del codigo utilizando break es:  16.415106248685042\n"
     ]
    }
   ],
   "source": [
    "cant_ciclos_conb = 0\n",
    "cant_ciclos_sinb = 0\n",
    "for i in range(0,1000):\n",
    "    np = True\n",
    "    for j in range(2,i):\n",
    "        cant_ciclos_conb += 1\n",
    "        if(i % j == 0):\n",
    "            np = False\n",
    "            break\n",
    "    if(np):\n",
    "        pass\n",
    "for i in range(0,100):\n",
    "    np = True\n",
    "    for j in range(2,i):\n",
    "        cant_ciclos_sinb += 1\n",
    "        if(i % j == 0):\n",
    "            np = False\n",
    "            #break\n",
    "    if(np):\n",
    "        pass\n",
    "print(\"la optimizacion del codigo utilizando break es: \",cant_ciclos_conb/cant_ciclos_sinb)"
   ]
  },
  {
   "cell_type": "markdown",
   "metadata": {},
   "source": [
    "13) Aplicando continue, armar un ciclo while que solo imprima los valores divisibles por 12, dentro del rango de números de 100 a 300"
   ]
  },
  {
   "cell_type": "code",
   "execution_count": 21,
   "metadata": {},
   "outputs": [
    {
     "name": "stdout",
     "output_type": "stream",
     "text": [
      "108 es divisible por 12\n",
      "120 es divisible por 12\n",
      "132 es divisible por 12\n",
      "144 es divisible por 12\n",
      "156 es divisible por 12\n",
      "168 es divisible por 12\n",
      "180 es divisible por 12\n",
      "192 es divisible por 12\n",
      "204 es divisible por 12\n",
      "216 es divisible por 12\n",
      "228 es divisible por 12\n",
      "240 es divisible por 12\n",
      "252 es divisible por 12\n",
      "264 es divisible por 12\n",
      "276 es divisible por 12\n",
      "288 es divisible por 12\n",
      "300 es divisible por 12\n"
     ]
    }
   ],
   "source": [
    "n = 100\n",
    "while (n <= 300):\n",
    "    n = n + 1\n",
    "    if (n % 12 == 0):\n",
    "        print(n, \"es divisible por 12\")"
   ]
  },
  {
   "cell_type": "markdown",
   "metadata": {},
   "source": [
    "14) Utilizar la función input() que permite hacer ingresos por teclado, para encontrar números primos y dar la opción al usario de buscar el siguiente"
   ]
  },
  {
   "cell_type": "code",
   "execution_count": 7,
   "metadata": {},
   "outputs": [
    {
     "name": "stdout",
     "output_type": "stream",
     "text": [
      "Quieres saber el siguiente primo ? Y/N\n",
      "Quieres saber el siguiente primo ? Y/N\n",
      "el primo es :  2\n",
      "Quieres saber el siguiente primo ? Y/N\n",
      "el primo es :  3\n",
      "Quieres saber el siguiente primo ? Y/N\n",
      "el primo es :  5\n",
      "Quieres saber el siguiente primo ? Y/N\n",
      "el primo es :  7\n",
      "Quieres saber el siguiente primo ? Y/N\n",
      "el primo es :  11\n",
      "Quieres saber el siguiente primo ? Y/N\n",
      "Quieres saber el siguiente primo ? Y/N\n",
      "Se finaliza el proceso\n"
     ]
    }
   ],
   "source": [
    "n = 1\n",
    "sigue = 1\n",
    "primo = True\n",
    "while (sigue == 1):\n",
    "    for div in range(2, n):\n",
    "        if (n % div == 0):\n",
    "            primo = False\n",
    "            break\n",
    "    if (primo):\n",
    "        print('Quieres saber el siguiente primo ? Y/N')\n",
    "        if (input() == ('Y' ) or input() == 'y'):\n",
    "            print('el primo es : ', n )\n",
    "        elif (input() == 'N' or input() == 'n'):\n",
    "            print('Se finaliza el proceso' )\n",
    "            break\n",
    "    else:\n",
    "        primo = True\n",
    "    n += 1"
   ]
  },
  {
   "cell_type": "markdown",
   "metadata": {},
   "source": [
    "15) Crear un ciclo while que encuentre dentro del rango de 100 a 300 el primer número divisible por 3 y además múltiplo de 6"
   ]
  },
  {
   "cell_type": "code",
   "execution_count": 2,
   "metadata": {},
   "outputs": [
    {
     "name": "stdout",
     "output_type": "stream",
     "text": [
      "el numero es dvisible por 3 y multiplo de 6 :  102\n"
     ]
    }
   ],
   "source": [
    "n=100\n",
    "while (n <= 300):\n",
    "    if (n % 6 == 0):\n",
    "        print(\"el numero es dvisible por 3 y multiplo de 6 : \", n)\n",
    "        break\n",
    "    n = n + 1"
   ]
  }
 ],
 "metadata": {
  "kernelspec": {
   "display_name": "Python 3",
   "language": "python",
   "name": "python3"
  },
  "language_info": {
   "codemirror_mode": {
    "name": "ipython",
    "version": 3
   },
   "file_extension": ".py",
   "mimetype": "text/x-python",
   "name": "python",
   "nbconvert_exporter": "python",
   "pygments_lexer": "ipython3",
   "version": "3.12.0"
  }
 },
 "nbformat": 4,
 "nbformat_minor": 2
}
